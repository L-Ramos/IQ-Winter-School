{
 "cells": [
  {
   "cell_type": "markdown",
   "metadata": {},
   "source": [
    "# iQ Winter School 2018 on Machine Learning Applied to Quantitative Analysis of Medical Images\n",
    "## Hands-on Session 2 - Challenge\n",
    "\n",
    "### Introduction: unsupervised image segmentation example\n",
    "\n",
    "In this notebook, you can follow the steps of an image segmentation method that uses basic image processing techniques. As you will see, the image labels are not used for developing this method.\n",
    "\n",
    "This gives you an idea of how well such a simplistic approach performs on this dataset."
   ]
  },
  {
   "cell_type": "code",
   "execution_count": null,
   "metadata": {},
   "outputs": [],
   "source": [
    "import numpy as np\n",
    "from pylab import *\n",
    "import skimage.io, skimage.filters, skimage.exposure, skimage.segmentation\n",
    "import scipy.ndimage as sndim\n",
    "import warnings\n",
    "warnings.filterwarnings(\"ignore\",category=FutureWarning)\n",
    "\n",
    "# Loads the validation data and shows one example\n",
    "data_validation = np.load(r'data.npy')\n",
    "labels_validation = np.load(r'labels.npy')\n",
    "n_images = data_validation.shape[0]\n",
    "\n",
    "img_ind = 0\n",
    "img = data_validation[img_ind,...]\n",
    "ground_truth = labels_validation[img_ind,...]\n",
    "\n",
    "contours_ground_truth = skimage.segmentation.mark_boundaries(img,ground_truth)\n",
    "figure(figsize=(20,20))\n",
    "subplot(131)\n",
    "imshow(img, cmap='gray')\n",
    "title('original image', fontsize=18)\n",
    "axis('off')\n",
    "subplot(132)\n",
    "imshow(ground_truth, cmap='gray')\n",
    "title('ground truth', fontsize=18)\n",
    "axis('off')\n",
    "subplot(133)\n",
    "imshow(contours_ground_truth)\n",
    "title('contour overlay', fontsize=18)\n",
    "axis('off')\n",
    "show()"
   ]
  },
  {
   "cell_type": "markdown",
   "metadata": {},
   "source": [
    "We can see that the cell membranes have lower intensities than the cell body, so we can first try a number of simple thresholding methods on the pixel intensities.\n",
    "\n",
    "### Simple thresholding"
   ]
  },
  {
   "cell_type": "code",
   "execution_count": null,
   "metadata": {
    "collapsed": true
   },
   "outputs": [],
   "source": [
    "# Smooths the image with a gaussian filter\n",
    "smoothed_img = sndim.gaussian_filter(img, sigma=2)\n",
    "\n",
    "# Applies a number of thresholding techniques\n",
    "skimage.filters.try_all_threshold(smoothed_img, figsize=(14,14))\n",
    "show()\n",
    "\n",
    "# Takes the threshold determined by the \"threshold_minimum\" method and binarizes the image\n",
    "th = skimage.filters.thresholding.threshold_minimum(smoothed_img)\n",
    "min_bin = smoothed_img > th"
   ]
  },
  {
   "cell_type": "markdown",
   "metadata": {},
   "source": [
    "The \"minimum threshold\" gives a cleaner segmentation than the other methods. However, and although we can already obtain a first approximation of the desired segmentation, we are excluding areas within the cell bodies that have intensities in the same range as the membranes.\n",
    "\n",
    "Another option is to use a filter than enhances tubular structures. We can then segment the result to obtain a binary segmentation and apply some morphological operations to post-process this segmentation.\n",
    "\n",
    "### \"Vesselness\" filter"
   ]
  },
  {
   "cell_type": "code",
   "execution_count": null,
   "metadata": {
    "collapsed": true
   },
   "outputs": [],
   "source": [
    "# Applies Frangi's vesselness filter\n",
    "vesselness = skimage.filters.frangi(img, scale_range=(3,5))\n",
    "vesselness /= vesselness.max()\n",
    "\n",
    "# Binarizes the vesselness\n",
    "ves_bin = vesselness <.1\n",
    "\n",
    "# Removes small objects\n",
    "l, n = sndim.label(1-ves_bin)\n",
    "sizes = np.bincount(l.ravel())\n",
    "mask_sizes = sizes > 100\n",
    "mask_sizes[0] = 0\n",
    "ves_bin = 1-mask_sizes[l]\n",
    "\n",
    "figure(figsize = (18,18))\n",
    "subplot(121)\n",
    "imshow(1-vesselness, cmap='gray')\n",
    "title('1-vesselness', fontsize=18)\n",
    "axis('off')\n",
    "subplot(122)\n",
    "imshow(ves_bin, cmap = 'gray')\n",
    "title('after thresholding', fontsize=18)\n",
    "axis('off')\n",
    "show()"
   ]
  },
  {
   "cell_type": "markdown",
   "metadata": {},
   "source": [
    "We now seem to be undersegmenting the cell membranes. We can finally combine this segmentation with the one obtained from thresholding."
   ]
  },
  {
   "cell_type": "code",
   "execution_count": null,
   "metadata": {
    "collapsed": true
   },
   "outputs": [],
   "source": [
    "# Labels the connected components in the binary image\n",
    "l,n = sndim.label(1-min_bin)\n",
    "\n",
    "# Combines the thresholded image with the result of the vesselness filter \n",
    "sums = sndim.sum(1-ves_bin, l, np.unique(l))\n",
    "final_segmentation = 1-(l == np.argmax(sums))\n",
    "\n",
    "figure(figsize=(16,16))\n",
    "subplot(221)\n",
    "title('unsupervised segmentation', fontsize=18)\n",
    "imshow(final_segmentation, cmap='gray')\n",
    "axis('off')\n",
    "subplot(222)\n",
    "title('ground truth', fontsize=18)\n",
    "imshow(ground_truth, cmap='gray')\n",
    "axis('off')\n",
    "subplot(223)\n",
    "contours = skimage.segmentation.mark_boundaries(img,final_segmentation)\n",
    "imshow(contours)\n",
    "axis('off')\n",
    "subplot(224)\n",
    "imshow(contours_ground_truth)\n",
    "axis('off')\n",
    "show()"
   ]
  },
  {
   "cell_type": "code",
   "execution_count": null,
   "metadata": {
    "collapsed": true
   },
   "outputs": [],
   "source": [
    "# Calculates the pixel error (1-accuracy)\n",
    "def pixel_error(auto_segmentation, ground_truth):\n",
    "    return 1-((auto_segmentation==ground_truth).sum()/ground_truth.size)\n",
    "\n",
    "print(\"pixel error: \", pixel_error(final_segmentation, ground_truth))"
   ]
  },
  {
   "cell_type": "code",
   "execution_count": null,
   "metadata": {
    "collapsed": true
   },
   "outputs": [],
   "source": [
    "# Puts everything together in a function\n",
    "def segment_image_unsupervised(test_image):\n",
    "    smoothed_img = sndim.gaussian_filter(test_image, sigma=2)\n",
    "    th = skimage.filters.thresholding.threshold_minimum(smoothed_img)\n",
    "    th_bin = smoothed_img > th\n",
    "    # if the threshold minimum doens't work, use the Otsu method:\n",
    "    if (th_bin.sum()/th_bin.size < 0.05) or (th_bin.sum()/th_bin.size > 0.95):\n",
    "        th = skimage.filters.thresholding.threshold_otsu(smoothed_img)\n",
    "        th_bin = smoothed_img > th\n",
    "    perc_cells = th_bin.sum()/th_bin.size\n",
    "    vesselness = skimage.filters.frangi(test_image, scale_range=(3,5))\n",
    "    vesselness /= vesselness.max()\n",
    "    ves_bin = vesselness <.1\n",
    "    l, n = sndim.label(1-ves_bin)\n",
    "    sizes = np.bincount(l.ravel())\n",
    "    mask_sizes = sizes > 100\n",
    "    mask_sizes[0] = 0\n",
    "    ves_bin = 1-mask_sizes[l]\n",
    "    l,n = sndim.label(1-th_bin)\n",
    "    sums = sndim.sum(1-ves_bin, l, np.unique(l))\n",
    "    final_segmentation = 1-(l == np.argmax(sums))\n",
    "    return final_segmentation\n",
    "\n",
    "# Evaluates the method on all validation images\n",
    "inds = np.arange(n_images)\n",
    "pixel_errors = np.zeros(inds.size)\n",
    "for i,img_ind in enumerate(inds):\n",
    "    img = data_validation[img_ind,...]\n",
    "    ground_truth = labels_validation[img_ind,...]\n",
    "    unsup_auto_segmentation = segment_image_unsupervised(img)\n",
    "    pixel_errors[i] = pixel_error(unsup_auto_segmentation, ground_truth)\n",
    "    \n",
    "figure(figsize=(16,12))\n",
    "bar(inds, pixel_errors)\n",
    "show()\n",
    "print(\"median pixel error: %0.2f\" % (np.median(pixel_errors)))\n",
    "print(\"avg pixel error: %0.2f +/- %0.2f\" % (pixel_errors.mean(), pixel_errors.std()))\n"
   ]
  },
  {
   "cell_type": "markdown",
   "metadata": {},
   "source": [
    "#  Can you do better?\n",
    " \n",
    " Move on to the [next notebook](challenge.ipynb)..."
   ]
  }
 ],
 "metadata": {
  "kernelspec": {
   "display_name": "Python 3",
   "language": "python",
   "name": "python3"
  },
  "language_info": {
   "codemirror_mode": {
    "name": "ipython",
    "version": 3
   },
   "file_extension": ".py",
   "mimetype": "text/x-python",
   "name": "python",
   "nbconvert_exporter": "python",
   "pygments_lexer": "ipython3",
   "version": "3.6.3"
  }
 },
 "nbformat": 4,
 "nbformat_minor": 2
}
